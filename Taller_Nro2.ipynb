{
  "nbformat": 4,
  "nbformat_minor": 0,
  "metadata": {
    "colab": {
      "provenance": [],
      "authorship_tag": "ABX9TyO2JK/PvGU12tm/GabKleH5",
      "include_colab_link": true
    },
    "kernelspec": {
      "name": "python3",
      "display_name": "Python 3"
    },
    "language_info": {
      "name": "python"
    }
  },
  "cells": [
    {
      "cell_type": "markdown",
      "metadata": {
        "id": "view-in-github",
        "colab_type": "text"
      },
      "source": [
        "<a href=\"https://colab.research.google.com/github/danielsilva4090/TallerEvaluado2/blob/main/Taller_Nro2.ipynb\" target=\"_parent\"><img src=\"https://colab.research.google.com/assets/colab-badge.svg\" alt=\"Open In Colab\"/></a>"
      ]
    },
    {
      "cell_type": "markdown",
      "source": [
        "## Pregunta 1\n",
        "\n",
        "Realice los siguientes procesos al data set:\n",
        "I Transforme a factor las variables que son categóricas y asigne etiqueta. Ej: 1 → lunes.\n",
        "I Transforme las variables temp y atemp a grados celsius, ya que se\n",
        "encuentran en escala normalizada.\n",
        "I Transforme la variable humedad a porcentaje.\n",
        "I Transforme la velocidad del viento a millas por hora"
      ],
      "metadata": {
        "id": "6tsc2JXODLV6"
      }
    },
    {
      "cell_type": "code",
      "execution_count": null,
      "metadata": {
        "id": "OFXWed9KB7ej"
      },
      "outputs": [],
      "source": []
    },
    {
      "cell_type": "markdown",
      "source": [
        "## Pregunta 2\n",
        "\n",
        "Realice un gráfico de dispersión entre el número de arriendos\n",
        "de bicicletas (target) vs temperatura (temp).\n",
        "\n",
        "*  Agregue la recta de regresión lineal.\n",
        "*  Comente brevemente.\n",
        "\n",
        "\n",
        "\n"
      ],
      "metadata": {
        "id": "jvpOQxlSDYQI"
      }
    },
    {
      "cell_type": "code",
      "source": [],
      "metadata": {
        "id": "r4K9LNqWFTML"
      },
      "execution_count": null,
      "outputs": []
    },
    {
      "cell_type": "markdown",
      "source": [
        "## Pregunta 3\n",
        "\n",
        "¿Es la relación entre la temperatura y el número de bicicletas arrendadas igual en los dos años?, para responder, compare en un\n",
        "mismo gráfico la relación entre el número de arriendo vs temperatura para los dos años, añada ambas rectas de regresión lineal"
      ],
      "metadata": {
        "id": "sDkgAQg8Dw_U"
      }
    },
    {
      "cell_type": "code",
      "source": [],
      "metadata": {
        "id": "Bg-1bbUUFT0g"
      },
      "execution_count": null,
      "outputs": []
    },
    {
      "cell_type": "markdown",
      "source": [
        "## Pregunta 4\n",
        "\n",
        "Por selección forward, construya un modelo sin considerar las variables\n",
        "\n",
        "*   date\n",
        "*   month\n",
        "*   registered\n",
        "\n",
        "Interpreta el factor asociado a la Temperatura y días feriados."
      ],
      "metadata": {
        "id": "UjqNhAMBEFwu"
      }
    },
    {
      "cell_type": "code",
      "source": [],
      "metadata": {
        "id": "DSpZZiR_FUxg"
      },
      "execution_count": null,
      "outputs": []
    },
    {
      "cell_type": "markdown",
      "source": [
        "## Pregunta 5\n",
        "Utilice los residuos del modelo elegido para estudiar la validez de\n",
        "los supuestos:\n",
        "\n",
        "*   Normalidad.\n",
        "*   Homocedasticidad.\n",
        "\n",
        "Comente."
      ],
      "metadata": {
        "id": "lIGBRO6hEdBX"
      }
    },
    {
      "cell_type": "code",
      "source": [],
      "metadata": {
        "id": "jZKYNZW1FVvF"
      },
      "execution_count": null,
      "outputs": []
    },
    {
      "cell_type": "markdown",
      "source": [
        "## Pregunta 6\n",
        "Realice una predicción de arriendos de bicicletas para un día con\n",
        "las siguientes cualidades:\n",
        "\n",
        "\n",
        "*   season: 2.\n",
        "*   year: 2011\n",
        "* holiday: día festivo.\n",
        "* weekday: sábado.\n",
        "* workingday: no laboral\n",
        "* weather: nublado.\n",
        "* temp: 12.\n",
        "* atemp: 11.\n",
        "* humidity: 66.3.\n",
        "* windspeed: 12.5"
      ],
      "metadata": {
        "id": "Gge7TqF7Eq2A"
      }
    },
    {
      "cell_type": "code",
      "source": [],
      "metadata": {
        "id": "9yzt9aomFWtQ"
      },
      "execution_count": null,
      "outputs": []
    },
    {
      "cell_type": "markdown",
      "source": [
        "## Pregunta 7\n",
        "\n",
        "Cuando las mediciones presentan un orden temporal, como es el\n",
        "caso de este data set, los residuos del modelo de regresión usualmente presentan estructura de auto-correlación que implica que el\n",
        "supuesto de independencia de las observaciones no se cumpla.\n",
        "\n",
        "* A partir de el ACF verifique que el supuesto de independencia\n",
        "dno se cumple y junto al PACF proponga los ordenes p y q de\n",
        "un potencial modelo ARMA para los residuos del modelo de\n",
        "regresión ajustado en la pregunta 5.\n",
        "* Utilizando auto.arima() de forecast de R o su equivalente en\n",
        "Python obtenga un modelo ARMA a partir de los ordenes propuestos en el item anterior.\n",
        "* Realice el test de Box-Ljung y chequee si la hipótesis de blancura se cumple.\n"
      ],
      "metadata": {
        "id": "Maq18evJFEH2"
      }
    },
    {
      "cell_type": "code",
      "source": [],
      "metadata": {
        "id": "YxV9kPtBFXtA"
      },
      "execution_count": null,
      "outputs": []
    }
  ]
}